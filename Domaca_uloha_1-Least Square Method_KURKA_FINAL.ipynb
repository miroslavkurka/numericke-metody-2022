{
 "cells": [
  {
   "cell_type": "markdown",
   "metadata": {},
   "source": [
    "# Úloha 1\n",
    "* Majme tabuľku nameraných dát. Nájdite polynóm stupňa n ≤ n_max, ktorý najlepšie\n",
    "aproximuje funkčnú závislosť y(t) v zmysle (neváženej) metódy najmenších štvorcov.\n",
    "Zobrazte závislosť rezíduí, t.j. súčet štvorcov, na stupni polynómu pre všetky skúmané\n",
    "polynómy.\n",
    "\n",
    "* Porovnajte výsledky s výsledkami obdŕžanými využitím zabudovanej fitovacej\n",
    "funkcie polyfit\n",
    "\n",
    "Data:\n",
    "\n",
    "```py\n",
    "t_i = [2 2.5 3 3.5 4 4.5 5]\n",
    "y_i = [7.14 6.56 5.98 5.55 5.71 6.01 6.53]\n",
    "```"
   ]
  },
  {
   "cell_type": "markdown",
   "metadata": {},
   "source": [
    "## Teoretický úvod\n",
    "\n",
    "Cielom LS metódy je dosiahnúť takú aproximačnú funkciu, ktorá sa najbližšie modeluje namerané dáta. Narozdiel napríklad od interpolácie splajnami, pri LS nie je potrebné aby funkcia prechádzala nameraními bodmy, metóda je založená na minimalizacií súčtu vzdialenosti štvorcou medzi skutočnou hodnotou a aproximačnou funkciou. \n",
    "\n",
    "Uveďme príklad ak máme dva namerané body[^1]\n",
    "\n",
    "Zvoľme aproximačnú funkciu $\\varphi(x_i)=a_0 + a_1x$. Teraz odčítajme hodnotu $\\varphi(x_i)$ od skutočnej nameranej hodnoty $y_i$. Dostávame $a_0 + a_1x - y_i$, vezmime štvorec tejto hodnoty $(a_0 + a_1x_i - y_i)^{2}$, to spravíme pre každú hodnotu. Následne sčítame takto získané hodnoty, chceme aby suma mocnín vzdialeností (residue) bola čo najmenšia $R=\\sum_{i=0}^{n}(a_0 + a_1x_i -y_i)^{2}$. Máme definovanú minimalizačnú úlohu, pre lokálne extrémy platí, že derivácia je rovná nule. Najprv zderivujeme podľa $a_0$ a upravíme:\n",
    "$$2\\sum_{i=0}^{n}(a_0 + a_1x_i -y_i)=0$$\n",
    "$$2(a_0n + a_1\\sum_{i=0}^{n}x_i -\\sum_{i=0}^{n}y_i)=0$$\n",
    "$$a_0n + a_1\\sum_{i=0}^{n}x_i =\\sum_{i=0}^{n}y_i$$\n",
    "Nasledne zderivujeme podla $a_1$:\n",
    "$$2\\sum_{i=0}^{n}(a_0 + a_1x_i -y_i)x_i=0$$\n",
    "$$2(a_0\\sum_{i=0}^{n}x_i + a_1\\sum_{i=0}^{n}x_i^{2} -\\sum_{i=0}^{n}y_ix_i)=0$$\n",
    "$$a_0\\sum_{i=0}^{n}x_i + a_1\\sum_{i=0}^{n}x_i^{2}=\\sum_{i=0}^{n}y_ix_i$$\n",
    "Dostávame sústavu rovníc, môžeme zapísať v maticovom tvare:\n",
    "$$\\begin{pmatrix} n & \\sum_{i=0}^{n}x_i  \\\\ \\sum_{i=0}^{n}x_i & \\sum_{i=0}^{n}x_i^{2}   \\end{pmatrix}\\begin{pmatrix} a_0 \\\\ a_1 \\end{pmatrix}=\\begin{pmatrix} \\sum_{i=0}^{n}y_i \\\\ \\sum_{i=0}^{n}y_ix_i\\end{pmatrix} $$\n",
    "\n",
    "Všeobecne platí:\n",
    "\n",
    "$$\\begin{pmatrix}  n &   \\dots &\\sum_{i=0}^{n}x_i^{k} \\\\  \\vdots & \\ddots & \\\\ \\sum_{i=0}^{n}x_i^{k} &        & \\sum_{i=0}^{n}x_i^{2k}  \\end{pmatrix} \\begin{pmatrix}  a_0  \\\\ \\vdots \\\\ a_{i} \\end{pmatrix}=\\begin{pmatrix}  \\sum_{i=0}^{n}y_i \\\\ \\vdots \\\\ \\sum_{i=0}^{n}y_ix_i^{k} \\end{pmatrix}$$\n",
    "  \n",
    "Dostávame maticovú rovnicu v tvare $\\mathbf{V}a= \\mathbf{Y}$, kde riešením dostávame a vektor, kde elementy sú hľadané najmenšie konštanty pre aproximačný polynóm. \n",
    "\n",
    "### Popis programu\n",
    "\n",
    "\n",
    "\n",
    "[^1]:V skutočnosti je nezmyselné robiť aproximáciu z dvoch bodov kvôli podmienenosti ale pre n bodov už $\\LaTeX$-ove rovnice sú prilíš zdlhavé na písanie."
   ]
  },
  {
   "cell_type": "code",
   "execution_count": 2,
   "metadata": {},
   "outputs": [
    {
     "name": "stdout",
     "output_type": "stream",
     "text": [
      "\u001b[?2004h\u001b[?2004l"
     ]
    }
   ],
   "source": [
    "#declares plotting env for jupyter octave kernel\n",
    "graphics_toolkit (\"qt\");"
   ]
  },
  {
   "cell_type": "code",
   "execution_count": 10,
   "metadata": {
    "scrolled": true
   },
   "outputs": [
    {
     "name": "stdout",
     "output_type": "stream",
     "text": [
      "\u001b[?2004h\u001b[?2004l\u001b[?2004l\u001b[?2004l\u001b[?2004l\u001b[?2004l\u001b[?2004l\u001b[?2004l\u001b[?2004l\u001b[?2004l\u001b[?2004l\u001b[?2004l\u001b[?2004l\u001b[?2004l\u001b[?2004l\u001b[?2004l\u001b[?2004l\u001b[?2004l\u001b[?2004l\u001b[?2004l\u001b[?2004l\u001b[?2004l\u001b[?2004l\u001b[?2004l\u001b[?2004l\u001b[?2004l\u001b[?2004l\u001b[?2004l\u001b[?2004l\u001b[?2004l\u001b[?2004l\u001b[?2004l\u001b[?2004l\u001b[?2004l\u001b[?2004l\u001b[?2004l\u001b[?2004l\u001b[?2004l\u001b[?2004l\u001b[?2004l\u001b[?2004l\u001b[?2004l\u001b[?2004l\u001b[?2004l\u001b[?2004l\u001b[?2004l\u001b[?2004l\u001b[?2004l\u001b[?2004l\u001b[?2004l\u001b[?2004l\u001b[?2004l\u001b[?2004l\u001b[?2004l\u001b[?2004l\u001b[?2004l\u001b[?2004l\u001b[?2004l\u001b[?2004l\u001b[?2004l\u001b[?2004l\u001b[?2004l\u001b[?2004l\u001b[?2004l\u001b[?2004l\u001b[?2004l\u001b[?2004l"
     ]
    },
    {
     "data": {
      "image/png": "[encoded data removed]",
      "text/plain": [
       "<IPython.core.display.Image object>"
      ]
     },
     "metadata": {},
     "output_type": "display_data"
    }
   ],
   "source": [
    "#Released under MIT License \n",
    "#Copyright (c) 2022 Miroslav Kurka\n",
    "\n",
    "t_i = [2 2.5 3 3.5 4 4.5 5]; # t_i is our x_i value\n",
    "y_i = [7.14 6.56 5.98 5.55 5.71 6.01 6.53];\n",
    "residues=[];\n",
    "#n= length(t_i) \n",
    "n=columns(t_i);\n",
    "k= n-1; # degree of the polynomial\n",
    "# init matrices\n",
    "V=zeros(n,n);\n",
    "Y=zeros(n,1);\n",
    "\n",
    "\n",
    "    \n",
    "# fill Y matrix\n",
    "\n",
    "for i=1:n\n",
    "   Y(i)=sum(y_i.*(t_i.^(i-1))); # i-1 so we can get t_i^0 = 1, hence the n not k in the for loop range\n",
    "endfor\n",
    "\n",
    "# fill the V matrix\n",
    "    \n",
    "for i=1:n\n",
    "  for j=1:n\n",
    "    if i==1 && j==1\n",
    "      V(i,j)=k;\n",
    "    else\n",
    "      V(i,j)=sum(t_i.^(i+j)-2);\n",
    "    endif\n",
    "    endfor\n",
    "endfor\n",
    "    \n",
    "\n",
    "st=7;\n",
    "# get each degree polynomial by slicing the V \n",
    "for pos=1:st\n",
    "    if st-pos==0, break; end # end for loop since 0x0 doesnt exist, and indexing is nightmare in matlab\n",
    "    V=V(1:st-pos,1:st-pos); # reverse slicing, we reduce matrix from to 6x6 to 5x5 ...\n",
    "    Y=Y(1:st-pos);\n",
    "    a_coefficients=V\\Y;\n",
    "    lst_func=polyval(flip(a_coefficients),y_i);\n",
    "    residues(pos)= sum((y_i-lst_func).^2);\n",
    "endfor\n",
    "# flip the residues since by slicing we got 6x6 ie k=6 first \n",
    "residues=flip(residues);\n",
    "poly_degrees=(1:k);\n",
    "semilogy(poly_degrees,residues)\n",
    "grid on\n",
    "hold on\n",
    "\n",
    "\n",
    "# task b) compare with polyfit \n",
    "\n",
    "matlab_residues=[];\n",
    "\n",
    "for i=1:6\n",
    "    a_matlab_coefficients=polyfit(t_i,y_i,i);\n",
    "    mat_func=polyval(a_matlab_coefficients,y_i);\n",
    "    matlab_residues(i)=sum((y_i-mat_func).^2);\n",
    "endfor\n",
    "\n",
    "semilogy(poly_degrees, matlab_residues,\"red\")\n",
    "legend(\"Our Method\",\"MATLAB polyfit\")\n",
    "xlabel(\"Degrees of polynomial\")\n",
    "ylabel(\"Residue\")\n",
    "hold off\n",
    "         \n"
   ]
  },
  {
   "cell_type": "markdown",
   "metadata": {},
   "source": [
    "### Záver\n",
    "\n",
    "Z grafu je viditeľné, že najlepší \"fit\" je pri polynóme so stupnňom 5 v oboch prípadoch. Taktiež, je zretelné, že implementovaná funkcia v MATLAB knižnici je presnejšia. Dôvodom je najskôr optimalnejšia implementácia algoritmu LSM alebo výber iného \"fitovacieho\" algoritmu. "
   ]
  }
 ],
 "metadata": {
  "authors": [
   {
    "name": "Miro Kurka"
   }
  ],
  "kernelspec": {
   "display_name": "Octave",
   "language": "octave",
   "name": "octave"
  },
  "language_info": {
   "file_extension": ".m",
   "help_links": [
    {
     "text": "GNU Octave",
     "url": "https://www.gnu.org/software/octave/support.html"
    },
    {
     "text": "Octave Kernel",
     "url": "https://github.com/Calysto/octave_kernel"
    },
    {
     "text": "MetaKernel Magics",
     "url": "https://metakernel.readthedocs.io/en/latest/source/README.html"
    }
   ],
   "mimetype": "text/x-octave",
   "name": "octave",
   "version": "\u001b[?2004h"
  },
  "title": "Domaca Uloha 1 - LSM"
 },
 "nbformat": 4,
 "nbformat_minor": 4
}
