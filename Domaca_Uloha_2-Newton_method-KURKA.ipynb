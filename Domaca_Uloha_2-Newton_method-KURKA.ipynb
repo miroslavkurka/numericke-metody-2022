{
 "cells": [
  {
   "cell_type": "markdown",
   "metadata": {},
   "source": [
    "# Uloha 2\n",
    "\n"
   ]
  },
  {
   "cell_type": "code",
   "execution_count": null,
   "metadata": {},
   "outputs": [],
   "source": []
  },
  {
   "cell_type": "code",
   "execution_count": null,
   "metadata": {},
   "outputs": [],
   "source": [
    "#declares plotting env for jupyter octave kernel\n",
    "graphics_toolkit (\"qt\");"
   ]
  },
  {
   "cell_type": "code",
   "execution_count": 24,
   "metadata": {},
   "outputs": [
    {
     "name": "stdout",
     "output_type": "stream",
     "text": [
      "t_i =04l\n",
      "\n",
      "   2.0000   2.5000   3.0000   3.5000   4.0000   4.5000   5.0000\n",
      "\n",
      "y_i =04h\u001b[?2004l\n",
      "\n",
      "   7.1400   6.5600   5.9800   5.5500   5.7100   6.0100   6.5300\n",
      "\n",
      "n = 704h\u001b[?2004l\u001b[?2004l\n",
      "h = 0.5000?2004l\u001b[?2004l\u001b[?2004l\u001b[?2004l\u001b[?2004l\u001b[?2004l\u001b[?2004l\u001b[?2004l\u001b[?2004l\u001b[?2004l\u001b[?2004l\u001b[?2004l\u001b[?2004l\n",
      "delta_x =[?2004l\u001b[?2004l\u001b[?2004l\u001b[?2004l\u001b[?2004l\u001b[?2004l\n",
      "\n",
      "   1  -2\n",
      "\n",
      "\u001b[?2004h"
     ]
    }
   ],
   "source": [
    "t_i = [2 2.5 3 3.5 4 4.5 5]\n",
    "y_i = [7.14 6.56 5.98 5.55 5.71 6.01 6.53]\n",
    "\n",
    "n=length(t_i)\n",
    "#n=rows(t_i)\n",
    "# fill the matrix of \"forward difference\" or delta matrix\n",
    "for_diff=zeros(n,n);\n",
    "for i=1:n-1\n",
    "    for j=1:n+1-i\n",
    "        for_diff(i,j)=t_i(i+1)-t_i(i);\n",
    "    endfor\n",
    "endfor\n",
    "\n",
    "# get coefficents\n",
    "coefficients=zeros(1,length(y_i));\n",
    "facts=factorial(1:n);\n",
    "h=0.5 # equidistal difference t_i(n)-t_i(n-1) which is 0.5\n",
    "for i=1:n\n",
    "    #coefficients(i)=for_diff(1,i)./facts(i-i)*h^(i-1)\n",
    "endfor\n",
    "\n",
    "# get delta x\n",
    "delta_x=[1,-t_i(1)]\n"
   ]
  },
  {
   "cell_type": "code",
   "execution_count": null,
   "metadata": {},
   "outputs": [],
   "source": []
  }
 ],
 "metadata": {
  "kernelspec": {
   "display_name": "Octave",
   "language": "octave",
   "name": "octave"
  },
  "language_info": {
   "file_extension": ".m",
   "help_links": [
    {
     "text": "GNU Octave",
     "url": "https://www.gnu.org/software/octave/support.html"
    },
    {
     "text": "Octave Kernel",
     "url": "https://github.com/Calysto/octave_kernel"
    },
    {
     "text": "MetaKernel Magics",
     "url": "https://metakernel.readthedocs.io/en/latest/source/README.html"
    }
   ],
   "mimetype": "text/x-octave",
   "name": "octave",
   "version": "\u001b[?2004h"
  }
 },
 "nbformat": 4,
 "nbformat_minor": 4
}
